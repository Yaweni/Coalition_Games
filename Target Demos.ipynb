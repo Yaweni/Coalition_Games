{
 "cells": [
  {
   "cell_type": "code",
   "execution_count": 11,
   "id": "75a7e50c",
   "metadata": {},
   "outputs": [],
   "source": [
    "class Target:\n",
    "    def __init__(self, name,skills, payoff):\n",
    "        self.name = name\n",
    "        self.skills = skills\n",
    "        self.payoff = payoff\n"
   ]
  },
  {
   "cell_type": "code",
   "execution_count": 15,
   "id": "50652d36",
   "metadata": {},
   "outputs": [],
   "source": [
    "target1 = Target('target1',['skill1', 'skill2'], 10)\n",
    "target2 = Target('target2',['skill2', 'skill3'], 15)\n",
    "\n",
    "targets = [target1, target2]"
   ]
  },
  {
   "cell_type": "code",
   "execution_count": 16,
   "id": "f8d569ec",
   "metadata": {},
   "outputs": [],
   "source": [
    "preference = {target.name: 0 for target in targets}"
   ]
  },
  {
   "cell_type": "code",
   "execution_count": 17,
   "id": "b910ef7a",
   "metadata": {},
   "outputs": [
    {
     "data": {
      "text/plain": [
       "['target1', 'target2']"
      ]
     },
     "execution_count": 17,
     "metadata": {},
     "output_type": "execute_result"
    }
   ],
   "source": [
    "list(preference.keys())"
   ]
  },
  {
   "cell_type": "code",
   "execution_count": 18,
   "id": "18d16719",
   "metadata": {},
   "outputs": [
    {
     "data": {
      "text/plain": [
       "{'target1': 0, 'target2': 0}"
      ]
     },
     "execution_count": 18,
     "metadata": {},
     "output_type": "execute_result"
    }
   ],
   "source": [
    "preference"
   ]
  },
  {
   "cell_type": "code",
   "execution_count": 25,
   "id": "ff269993",
   "metadata": {},
   "outputs": [],
   "source": [
    "x = {1: 2, 3: 4, 4: 3, 2: 1, 0: 0}\n",
    "d={k: v for k, v in sorted(x.items(), key=lambda item: item[1],reverse=True)}\n"
   ]
  },
  {
   "cell_type": "code",
   "execution_count": 28,
   "id": "44d3b12d",
   "metadata": {},
   "outputs": [
    {
     "data": {
      "text/plain": [
       "10"
      ]
     },
     "execution_count": 28,
     "metadata": {},
     "output_type": "execute_result"
    }
   ],
   "source": [
    "sum(x.values())"
   ]
  },
  {
   "cell_type": "code",
   "execution_count": null,
   "id": "d6f9abe1",
   "metadata": {},
   "outputs": [],
   "source": []
  }
 ],
 "metadata": {
  "kernelspec": {
   "display_name": "Python 3 (ipykernel)",
   "language": "python",
   "name": "python3"
  },
  "language_info": {
   "codemirror_mode": {
    "name": "ipython",
    "version": 3
   },
   "file_extension": ".py",
   "mimetype": "text/x-python",
   "name": "python",
   "nbconvert_exporter": "python",
   "pygments_lexer": "ipython3",
   "version": "3.9.13"
  }
 },
 "nbformat": 4,
 "nbformat_minor": 5
}
