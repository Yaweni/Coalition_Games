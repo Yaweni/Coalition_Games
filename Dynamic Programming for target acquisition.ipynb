{
 "cells": [
  {
   "cell_type": "code",
   "execution_count": null,
   "id": "db020308",
   "metadata": {},
   "outputs": [],
   "source": [
    "\n",
    "# Define the list of players, the list of targets, and the dictionary of skills\n",
    "players = [\"Alice\", \"Bob\", \"Charlie\"]\n",
    "targets = [\"T1\", \"T2\", \"T3\", \"T4\"]\n",
    "skills = {\"S1\": 3, \"S2\": 2, \"S3\": 1, \"S4\": 2}\n",
    "\n",
    "# Define the skill requirements and the values of the targets\n",
    "skill_req = {\"T1\": {\"S1\": 1, \"S2\": 1}, \"T2\": {\"S3\": 2}, \"T3\": {\"S1\": 2, \"S4\": 1}, \"T4\": {\"S2\": 2, \"S4\": 1}}\n",
    "values = {\"T1\": 10, \"T2\": 8, \"T3\": 12, \"T4\": 9}\n",
    "\n",
    "# Calculate the total number of skills and the number of targets\n",
    "total_skills = sum(skills.values())\n",
    "num_targets = len(targets)\n",
    "\n",
    "# Initialize the dp array with zeros\n",
    "dp = [[0 for _ in range(total_skills + 1)] for _ in range(num_targets + 1)]\n",
    "\n",
    "# Fill the dp array using the recurrence relation\n",
    "for i in range(1, num_targets + 1):\n",
    "for j in range(1, total_skills + 1):\n",
    "# Get the skill requirement and the value of the current target\n",
    "w = sum(skill_req[targets[i-1]].values())\n",
    "v = values[targets[i-1]]\n",
    "# Check if the target can be included or not\n",
    "if j < w:\n",
    "# The target cannot be included, so the value is the same as the previous row\n",
    "dp[i][j] = dp[i-1][j]\n",
    "else:\n",
    "# The target can be included, so the value is the maximum of either excluding or including the target\n",
    "dp[i][j] = max(dp[i-1][j], v + dp[i-1][j-w])\n",
    "\n",
    "# The final answer is the value of the bottom-right corner of the dp array\n",
    "print(\"The maximum value that can be obtained by the players is\", dp[num_targets][total_skills])\n",
    "\n",
    "# To find the subset of targets that are included, we backtrack from the bottom-right corner of the dp array\n",
    "subset = []\n",
    "i = num_targets\n",
    "j = total_skills\n",
    "while i > 0 and j > 0:\n",
    "# Get the skill requirement and the value of the current target\n",
    "w = sum(skill_req[targets[i-1]].values())\n",
    "v = values[targets[i-1]]\n",
    "# Check if the target is included or not\n",
    "if dp[i][j] == dp[i-1][j]:\n",
    "# The target is not included, so we move to the previous row\n",
    "i -= 1\n",
    "else:\n",
    "# The target is included, so we add it to the subset and reduce the skill capacity by the skill requirement\n",
    "subset.append(targets[i-1])\n",
    "i -= 1\n",
    "j -= w\n",
    "\n",
    "# Reverse the subset to get the correct order\n",
    "subset.reverse()\n",
    "print(\"The subset of targets that are included are\", subset)"
   ]
  },
  {
   "cell_type": "code",
   "execution_count": 1,
   "id": "b8d23bed",
   "metadata": {},
   "outputs": [],
   "source": [
    "import networkx as nx"
   ]
  },
  {
   "cell_type": "code",
   "execution_count": 2,
   "id": "06863b92",
   "metadata": {},
   "outputs": [],
   "source": [
    "# Create empty graph\n",
    "G = nx.Graph()"
   ]
  },
  {
   "cell_type": "code",
   "execution_count": 9,
   "id": "dec1834f",
   "metadata": {},
   "outputs": [],
   "source": [
    "G.add_edges_from([[1, 2],[2,3]])"
   ]
  },
  {
   "cell_type": "code",
   "execution_count": 10,
   "id": "c8eab33a",
   "metadata": {},
   "outputs": [
    {
     "data": {
      "text/plain": [
       "EdgeView([(1, 2), (2, 3)])"
      ]
     },
     "execution_count": 10,
     "metadata": {},
     "output_type": "execute_result"
    }
   ],
   "source": [
    "G.edges"
   ]
  },
  {
   "cell_type": "code",
   "execution_count": 11,
   "id": "215f2589",
   "metadata": {},
   "outputs": [
    {
     "data": {
      "text/plain": [
       "2"
      ]
     },
     "execution_count": 11,
     "metadata": {},
     "output_type": "execute_result"
    }
   ],
   "source": [
    "nx.diameter(G)"
   ]
  },
  {
   "cell_type": "code",
   "execution_count": 20,
   "id": "571dd218",
   "metadata": {},
   "outputs": [],
   "source": [
    "coalitions=[set([i]) for i in range(10)]"
   ]
  },
  {
   "cell_type": "code",
   "execution_count": 21,
   "id": "1ab25648",
   "metadata": {},
   "outputs": [
    {
     "data": {
      "text/plain": [
       "[{0}, {1}, {2}, {3}, {4}, {5}, {6}, {7}, {8}, {9}]"
      ]
     },
     "execution_count": 21,
     "metadata": {},
     "output_type": "execute_result"
    }
   ],
   "source": [
    "coalitions"
   ]
  },
  {
   "cell_type": "code",
   "execution_count": 22,
   "id": "5c424006",
   "metadata": {},
   "outputs": [],
   "source": [
    "coalitions[0].remove(0)\n",
    "coalitions[1].add(0)"
   ]
  },
  {
   "cell_type": "code",
   "execution_count": 23,
   "id": "0caa25a1",
   "metadata": {},
   "outputs": [
    {
     "data": {
      "text/plain": [
       "[set(), {0, 1}, {2}, {3}, {4}, {5}, {6}, {7}, {8}, {9}]"
      ]
     },
     "execution_count": 23,
     "metadata": {},
     "output_type": "execute_result"
    }
   ],
   "source": [
    "coalitions"
   ]
  },
  {
   "cell_type": "code",
   "execution_count": 25,
   "id": "7b7e15e9",
   "metadata": {},
   "outputs": [],
   "source": [
    "stable_coa=[coa for coa in coalitions if len(coa)>0]"
   ]
  },
  {
   "cell_type": "code",
   "execution_count": 26,
   "id": "4151928b",
   "metadata": {},
   "outputs": [
    {
     "data": {
      "text/plain": [
       "[{0, 1}, {2}, {3}, {4}, {5}, {6}, {7}, {8}, {9}]"
      ]
     },
     "execution_count": 26,
     "metadata": {},
     "output_type": "execute_result"
    }
   ],
   "source": [
    "stable_coa"
   ]
  },
  {
   "cell_type": "code",
   "execution_count": 27,
   "id": "48d49c8b",
   "metadata": {},
   "outputs": [
    {
     "data": {
      "text/plain": [
       "False"
      ]
     },
     "execution_count": 27,
     "metadata": {},
     "output_type": "execute_result"
    }
   ],
   "source": [
    "stable_coa == coalitions"
   ]
  },
  {
   "cell_type": "code",
   "execution_count": 35,
   "id": "f8871809",
   "metadata": {},
   "outputs": [
    {
     "data": {
      "text/plain": [
       "False"
      ]
     },
     "execution_count": 35,
     "metadata": {},
     "output_type": "execute_result"
    }
   ],
   "source": [
    "any(set([1,2,3]).intersection([3,4,5])) and 1 not in [1,2,3]"
   ]
  },
  {
   "cell_type": "code",
   "execution_count": 36,
   "id": "42413546",
   "metadata": {},
   "outputs": [],
   "source": [
    "def retl():\n",
    "    return [1,2]\n"
   ]
  },
  {
   "cell_type": "code",
   "execution_count": 37,
   "id": "6b8b22fc",
   "metadata": {},
   "outputs": [
    {
     "data": {
      "text/plain": [
       "1"
      ]
     },
     "execution_count": 37,
     "metadata": {},
     "output_type": "execute_result"
    }
   ],
   "source": [
    "retl()[0]"
   ]
  },
  {
   "cell_type": "code",
   "execution_count": 50,
   "id": "f9f8c74d",
   "metadata": {},
   "outputs": [],
   "source": [
    "a = False\n",
    "b = True "
   ]
  },
  {
   "cell_type": "code",
   "execution_count": 51,
   "id": "f15a2cc0",
   "metadata": {},
   "outputs": [],
   "source": [
    "if a:\n",
    "    print(1)\n",
    "elif not b:\n",
    "    print(2)"
   ]
  },
  {
   "cell_type": "code",
   "execution_count": 58,
   "id": "561b9123",
   "metadata": {},
   "outputs": [],
   "source": [
    "class Target:\n",
    "    def __init__(self, name,skills, payoff):\n",
    "            self.name = name\n",
    "            self.skills = skills\n",
    "            self.payoff = payoff\n",
    "    def set_name(self,name):\n",
    "        self.name=name"
   ]
  },
  {
   "cell_type": "code",
   "execution_count": 64,
   "id": "4473ae0a",
   "metadata": {},
   "outputs": [],
   "source": [
    "a=Target('a','b',10)"
   ]
  },
  {
   "cell_type": "code",
   "execution_count": 65,
   "id": "e490ff09",
   "metadata": {},
   "outputs": [],
   "source": [
    "import copy\n",
    "b=copy.deepcopy(a)"
   ]
  },
  {
   "cell_type": "code",
   "execution_count": 84,
   "id": "190359bf",
   "metadata": {},
   "outputs": [],
   "source": [
    "class Test:\n",
    "    def __init__(self, value):\n",
    "        self.value = value\n",
    "\n",
    "import random\n",
    "\n",
    "value = 5\n",
    "\n",
    "test_list = [Test(random.randint(0,100)) for x in range(1000)]"
   ]
  },
  {
   "cell_type": "code",
   "execution_count": null,
   "id": "0e34db0b",
   "metadata": {},
   "outputs": [],
   "source": []
  },
  {
   "cell_type": "code",
   "execution_count": 85,
   "id": "84308740",
   "metadata": {},
   "outputs": [],
   "source": [
    "b=next((x for x in test_list if x.value == 100), None)"
   ]
  },
  {
   "cell_type": "code",
   "execution_count": 86,
   "id": "b489b5a9",
   "metadata": {},
   "outputs": [],
   "source": [
    "b.value=10000"
   ]
  },
  {
   "cell_type": "code",
   "execution_count": 87,
   "id": "6de28e08",
   "metadata": {},
   "outputs": [],
   "source": [
    "c=next((x for x in test_list if x.value == 10000), None)"
   ]
  },
  {
   "cell_type": "code",
   "execution_count": 88,
   "id": "5ca1f7d5",
   "metadata": {},
   "outputs": [
    {
     "data": {
      "text/plain": [
       "10000"
      ]
     },
     "execution_count": 88,
     "metadata": {},
     "output_type": "execute_result"
    }
   ],
   "source": [
    "c.value"
   ]
  },
  {
   "cell_type": "code",
   "execution_count": 89,
   "id": "0f4b65de",
   "metadata": {},
   "outputs": [
    {
     "data": {
      "text/plain": [
       "True"
      ]
     },
     "execution_count": 89,
     "metadata": {},
     "output_type": "execute_result"
    }
   ],
   "source": [
    "b is c"
   ]
  },
  {
   "cell_type": "code",
   "execution_count": 90,
   "id": "19ac5cea",
   "metadata": {},
   "outputs": [],
   "source": [
    "b=[i]"
   ]
  },
  {
   "cell_type": "code",
   "execution_count": 91,
   "id": "e782d9d2",
   "metadata": {},
   "outputs": [],
   "source": [
    "b.append(9.5)"
   ]
  },
  {
   "cell_type": "code",
   "execution_count": 92,
   "id": "335b750d",
   "metadata": {},
   "outputs": [
    {
     "data": {
      "text/plain": [
       "[int, 9.5]"
      ]
     },
     "execution_count": 92,
     "metadata": {},
     "output_type": "execute_result"
    }
   ],
   "source": [
    "b"
   ]
  },
  {
   "cell_type": "code",
   "execution_count": null,
   "id": "52713f12",
   "metadata": {},
   "outputs": [],
   "source": []
  }
 ],
 "metadata": {
  "kernelspec": {
   "display_name": "Python 3 (ipykernel)",
   "language": "python",
   "name": "python3"
  },
  "language_info": {
   "codemirror_mode": {
    "name": "ipython",
    "version": 3
   },
   "file_extension": ".py",
   "mimetype": "text/x-python",
   "name": "python",
   "nbconvert_exporter": "python",
   "pygments_lexer": "ipython3",
   "version": "3.9.13"
  }
 },
 "nbformat": 4,
 "nbformat_minor": 5
}
