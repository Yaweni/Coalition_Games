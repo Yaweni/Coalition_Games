{
 "cells": [
  {
   "cell_type": "code",
   "execution_count": null,
   "id": "6e1aebaf",
   "metadata": {},
   "outputs": [],
   "source": [
    "\n",
    "# Define the list of players, the list of targets, and the dictionary of skills\n",
    "players = [\"Alice\", \"Bob\", \"Charlie\"]\n",
    "targets = [\"T1\", \"T2\", \"T3\", \"T4\"]\n",
    "skills = {\"S1\": 3, \"S2\": 2, \"S3\": 1, \"S4\": 2}\n",
    "\n",
    "# Define the skill requirements and the values of the targets\n",
    "skill_req = {\"T1\": {\"S1\": 1, \"S2\": 1}, \"T2\": {\"S3\": 2}, \"T3\": {\"S1\": 2, \"S4\": 1}, \"T4\": {\"S2\": 2, \"S4\": 1}}\n",
    "values = {\"T1\": 10, \"T2\": 8, \"T3\": 12, \"T4\": 9}\n",
    "\n",
    "# Calculate the total number of skills and the number of targets\n",
    "total_skills = sum(skills.values())\n",
    "num_targets = len(targets)\n",
    "\n",
    "# Initialize the dp array with zeros\n",
    "dp = [[0 for _ in range(total_skills + 1)] for _ in range(num_targets + 1)]\n",
    "\n",
    "# Fill the dp array using the recurrence relation\n",
    "for i in range(1, num_targets + 1):\n",
    "for j in range(1, total_skills + 1):\n",
    "# Get the skill requirement and the value of the current target\n",
    "w = sum(skill_req[targets[i-1]].values())\n",
    "v = values[targets[i-1]]\n",
    "# Check if the target can be included or not\n",
    "if j < w:\n",
    "# The target cannot be included, so the value is the same as the previous row\n",
    "dp[i][j] = dp[i-1][j]\n",
    "else:\n",
    "# The target can be included, so the value is the maximum of either excluding or including the target\n",
    "dp[i][j] = max(dp[i-1][j], v + dp[i-1][j-w])\n",
    "\n",
    "# The final answer is the value of the bottom-right corner of the dp array\n",
    "print(\"The maximum value that can be obtained by the players is\", dp[num_targets][total_skills])\n",
    "\n",
    "# To find the subset of targets that are included, we backtrack from the bottom-right corner of the dp array\n",
    "subset = []\n",
    "i = num_targets\n",
    "j = total_skills\n",
    "while i > 0 and j > 0:\n",
    "# Get the skill requirement and the value of the current target\n",
    "w = sum(skill_req[targets[i-1]].values())\n",
    "v = values[targets[i-1]]\n",
    "# Check if the target is included or not\n",
    "if dp[i][j] == dp[i-1][j]:\n",
    "# The target is not included, so we move to the previous row\n",
    "i -= 1\n",
    "else:\n",
    "# The target is included, so we add it to the subset and reduce the skill capacity by the skill requirement\n",
    "subset.append(targets[i-1])\n",
    "i -= 1\n",
    "j -= w\n",
    "\n",
    "# Reverse the subset to get the correct order\n",
    "subset.reverse()\n",
    "print(\"The subset of targets that are included are\", subset)"
   ]
  },
  {
   "cell_type": "code",
   "execution_count": 1,
   "id": "d57c380f",
   "metadata": {},
   "outputs": [],
   "source": [
    "import networkx as nx"
   ]
  },
  {
   "cell_type": "code",
   "execution_count": 2,
   "id": "a2a11803",
   "metadata": {},
   "outputs": [],
   "source": [
    "# Create empty graph\n",
    "G = nx.Graph()"
   ]
  },
  {
   "cell_type": "code",
   "execution_count": 9,
   "id": "59ee4fcd",
   "metadata": {},
   "outputs": [],
   "source": [
    "G.add_edges_from([[1, 2],[2,3]])"
   ]
  },
  {
   "cell_type": "code",
   "execution_count": 10,
   "id": "742e450b",
   "metadata": {},
   "outputs": [
    {
     "data": {
      "text/plain": [
       "EdgeView([(1, 2), (2, 3)])"
      ]
     },
     "execution_count": 10,
     "metadata": {},
     "output_type": "execute_result"
    }
   ],
   "source": [
    "G.edges"
   ]
  },
  {
   "cell_type": "code",
   "execution_count": 11,
   "id": "cdc12509",
   "metadata": {},
   "outputs": [
    {
     "data": {
      "text/plain": [
       "2"
      ]
     },
     "execution_count": 11,
     "metadata": {},
     "output_type": "execute_result"
    }
   ],
   "source": [
    "nx.diameter(G)"
   ]
  },
  {
   "cell_type": "code",
   "execution_count": 20,
   "id": "01f58dc3",
   "metadata": {},
   "outputs": [],
   "source": [
    "coalitions=[set([i]) for i in range(10)]"
   ]
  },
  {
   "cell_type": "code",
   "execution_count": 21,
   "id": "1ba8610c",
   "metadata": {},
   "outputs": [
    {
     "data": {
      "text/plain": [
       "[{0}, {1}, {2}, {3}, {4}, {5}, {6}, {7}, {8}, {9}]"
      ]
     },
     "execution_count": 21,
     "metadata": {},
     "output_type": "execute_result"
    }
   ],
   "source": [
    "coalitions"
   ]
  },
  {
   "cell_type": "code",
   "execution_count": 22,
   "id": "b7a3423f",
   "metadata": {},
   "outputs": [],
   "source": [
    "coalitions[0].remove(0)\n",
    "coalitions[1].add(0)"
   ]
  },
  {
   "cell_type": "code",
   "execution_count": 23,
   "id": "c9b1fca6",
   "metadata": {},
   "outputs": [
    {
     "data": {
      "text/plain": [
       "[set(), {0, 1}, {2}, {3}, {4}, {5}, {6}, {7}, {8}, {9}]"
      ]
     },
     "execution_count": 23,
     "metadata": {},
     "output_type": "execute_result"
    }
   ],
   "source": [
    "coalitions"
   ]
  },
  {
   "cell_type": "code",
   "execution_count": 25,
   "id": "d85ef2ab",
   "metadata": {},
   "outputs": [],
   "source": [
    "stable_coa=[coa for coa in coalitions if len(coa)>0]"
   ]
  },
  {
   "cell_type": "code",
   "execution_count": 26,
   "id": "94d240bf",
   "metadata": {},
   "outputs": [
    {
     "data": {
      "text/plain": [
       "[{0, 1}, {2}, {3}, {4}, {5}, {6}, {7}, {8}, {9}]"
      ]
     },
     "execution_count": 26,
     "metadata": {},
     "output_type": "execute_result"
    }
   ],
   "source": [
    "stable_coa"
   ]
  },
  {
   "cell_type": "code",
   "execution_count": 27,
   "id": "8e8ea1e6",
   "metadata": {},
   "outputs": [
    {
     "data": {
      "text/plain": [
       "False"
      ]
     },
     "execution_count": 27,
     "metadata": {},
     "output_type": "execute_result"
    }
   ],
   "source": [
    "stable_coa == coalitions"
   ]
  },
  {
   "cell_type": "code",
   "execution_count": 35,
   "id": "de65e72a",
   "metadata": {},
   "outputs": [
    {
     "data": {
      "text/plain": [
       "False"
      ]
     },
     "execution_count": 35,
     "metadata": {},
     "output_type": "execute_result"
    }
   ],
   "source": [
    "any(set([1,2,3]).intersection([3,4,5])) and 1 not in [1,2,3]"
   ]
  },
  {
   "cell_type": "code",
   "execution_count": 34,
   "id": "0dcca918",
   "metadata": {},
   "outputs": [
    {
     "data": {
      "text/plain": [
       "False"
      ]
     },
     "execution_count": 34,
     "metadata": {},
     "output_type": "execute_result"
    }
   ],
   "source": []
  },
  {
   "cell_type": "code",
   "execution_count": null,
   "id": "faccbd7b",
   "metadata": {},
   "outputs": [],
   "source": []
  }
 ],
 "metadata": {
  "kernelspec": {
   "display_name": "Python 3 (ipykernel)",
   "language": "python",
   "name": "python3"
  },
  "language_info": {
   "codemirror_mode": {
    "name": "ipython",
    "version": 3
   },
   "file_extension": ".py",
   "mimetype": "text/x-python",
   "name": "python",
   "nbconvert_exporter": "python",
   "pygments_lexer": "ipython3",
   "version": "3.9.13"
  }
 },
 "nbformat": 4,
 "nbformat_minor": 5
}
