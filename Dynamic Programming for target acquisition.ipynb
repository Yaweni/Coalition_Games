{
 "cells": [
  {
   "cell_type": "code",
   "execution_count": null,
   "id": "40fae1b4",
   "metadata": {},
   "outputs": [],
   "source": [
    "\n",
    "# Define the list of players, the list of targets, and the dictionary of skills\n",
    "players = [\"Alice\", \"Bob\", \"Charlie\"]\n",
    "targets = [\"T1\", \"T2\", \"T3\", \"T4\"]\n",
    "skills = {\"S1\": 3, \"S2\": 2, \"S3\": 1, \"S4\": 2}\n",
    "\n",
    "# Define the skill requirements and the values of the targets\n",
    "skill_req = {\"T1\": {\"S1\": 1, \"S2\": 1}, \"T2\": {\"S3\": 2}, \"T3\": {\"S1\": 2, \"S4\": 1}, \"T4\": {\"S2\": 2, \"S4\": 1}}\n",
    "values = {\"T1\": 10, \"T2\": 8, \"T3\": 12, \"T4\": 9}\n",
    "\n",
    "# Calculate the total number of skills and the number of targets\n",
    "total_skills = sum(skills.values())\n",
    "num_targets = len(targets)\n",
    "\n",
    "# Initialize the dp array with zeros\n",
    "dp = [[0 for _ in range(total_skills + 1)] for _ in range(num_targets + 1)]\n",
    "\n",
    "# Fill the dp array using the recurrence relation\n",
    "for i in range(1, num_targets + 1):\n",
    "for j in range(1, total_skills + 1):\n",
    "# Get the skill requirement and the value of the current target\n",
    "w = sum(skill_req[targets[i-1]].values())\n",
    "v = values[targets[i-1]]\n",
    "# Check if the target can be included or not\n",
    "if j < w:\n",
    "# The target cannot be included, so the value is the same as the previous row\n",
    "dp[i][j] = dp[i-1][j]\n",
    "else:\n",
    "# The target can be included, so the value is the maximum of either excluding or including the target\n",
    "dp[i][j] = max(dp[i-1][j], v + dp[i-1][j-w])\n",
    "\n",
    "# The final answer is the value of the bottom-right corner of the dp array\n",
    "print(\"The maximum value that can be obtained by the players is\", dp[num_targets][total_skills])\n",
    "\n",
    "# To find the subset of targets that are included, we backtrack from the bottom-right corner of the dp array\n",
    "subset = []\n",
    "i = num_targets\n",
    "j = total_skills\n",
    "while i > 0 and j > 0:\n",
    "# Get the skill requirement and the value of the current target\n",
    "w = sum(skill_req[targets[i-1]].values())\n",
    "v = values[targets[i-1]]\n",
    "# Check if the target is included or not\n",
    "if dp[i][j] == dp[i-1][j]:\n",
    "# The target is not included, so we move to the previous row\n",
    "i -= 1\n",
    "else:\n",
    "# The target is included, so we add it to the subset and reduce the skill capacity by the skill requirement\n",
    "subset.append(targets[i-1])\n",
    "i -= 1\n",
    "j -= w\n",
    "\n",
    "# Reverse the subset to get the correct order\n",
    "subset.reverse()\n",
    "print(\"The subset of targets that are included are\", subset)"
   ]
  },
  {
   "cell_type": "code",
   "execution_count": 1,
   "id": "39be165b",
   "metadata": {},
   "outputs": [],
   "source": [
    "import networkx as nx"
   ]
  },
  {
   "cell_type": "code",
   "execution_count": 2,
   "id": "8b6c93d7",
   "metadata": {},
   "outputs": [],
   "source": [
    "# Create empty graph\n",
    "G = nx.Graph()"
   ]
  },
  {
   "cell_type": "code",
   "execution_count": 9,
   "id": "b14d1b99",
   "metadata": {},
   "outputs": [],
   "source": [
    "G.add_edges_from([[1, 2],[2,3]])"
   ]
  },
  {
   "cell_type": "code",
   "execution_count": 10,
   "id": "9ab79da4",
   "metadata": {},
   "outputs": [
    {
     "data": {
      "text/plain": [
       "EdgeView([(1, 2), (2, 3)])"
      ]
     },
     "execution_count": 10,
     "metadata": {},
     "output_type": "execute_result"
    }
   ],
   "source": [
    "G.edges"
   ]
  },
  {
   "cell_type": "code",
   "execution_count": 11,
   "id": "fc090110",
   "metadata": {},
   "outputs": [
    {
     "data": {
      "text/plain": [
       "2"
      ]
     },
     "execution_count": 11,
     "metadata": {},
     "output_type": "execute_result"
    }
   ],
   "source": [
    "nx.diameter(G)"
   ]
  },
  {
   "cell_type": "code",
   "execution_count": 20,
   "id": "05cadd05",
   "metadata": {},
   "outputs": [],
   "source": [
    "coalitions=[set([i]) for i in range(10)]"
   ]
  },
  {
   "cell_type": "code",
   "execution_count": 21,
   "id": "8dd89df5",
   "metadata": {},
   "outputs": [
    {
     "data": {
      "text/plain": [
       "[{0}, {1}, {2}, {3}, {4}, {5}, {6}, {7}, {8}, {9}]"
      ]
     },
     "execution_count": 21,
     "metadata": {},
     "output_type": "execute_result"
    }
   ],
   "source": [
    "coalitions"
   ]
  },
  {
   "cell_type": "code",
   "execution_count": 22,
   "id": "f99ac286",
   "metadata": {},
   "outputs": [],
   "source": [
    "coalitions[0].remove(0)\n",
    "coalitions[1].add(0)"
   ]
  },
  {
   "cell_type": "code",
   "execution_count": 23,
   "id": "46de875e",
   "metadata": {},
   "outputs": [
    {
     "data": {
      "text/plain": [
       "[set(), {0, 1}, {2}, {3}, {4}, {5}, {6}, {7}, {8}, {9}]"
      ]
     },
     "execution_count": 23,
     "metadata": {},
     "output_type": "execute_result"
    }
   ],
   "source": [
    "coalitions"
   ]
  },
  {
   "cell_type": "code",
   "execution_count": 25,
   "id": "4b66f8f9",
   "metadata": {},
   "outputs": [],
   "source": [
    "stable_coa=[coa for coa in coalitions if len(coa)>0]"
   ]
  },
  {
   "cell_type": "code",
   "execution_count": 26,
   "id": "fe4dca3c",
   "metadata": {},
   "outputs": [
    {
     "data": {
      "text/plain": [
       "[{0, 1}, {2}, {3}, {4}, {5}, {6}, {7}, {8}, {9}]"
      ]
     },
     "execution_count": 26,
     "metadata": {},
     "output_type": "execute_result"
    }
   ],
   "source": [
    "stable_coa"
   ]
  },
  {
   "cell_type": "code",
   "execution_count": 27,
   "id": "fdf6474e",
   "metadata": {},
   "outputs": [
    {
     "data": {
      "text/plain": [
       "False"
      ]
     },
     "execution_count": 27,
     "metadata": {},
     "output_type": "execute_result"
    }
   ],
   "source": [
    "stable_coa == coalitions"
   ]
  },
  {
   "cell_type": "code",
   "execution_count": 35,
   "id": "cbd71d95",
   "metadata": {},
   "outputs": [
    {
     "data": {
      "text/plain": [
       "False"
      ]
     },
     "execution_count": 35,
     "metadata": {},
     "output_type": "execute_result"
    }
   ],
   "source": [
    "any(set([1,2,3]).intersection([3,4,5])) and 1 not in [1,2,3]"
   ]
  },
  {
   "cell_type": "code",
   "execution_count": 36,
   "id": "5704cd32",
   "metadata": {},
   "outputs": [],
   "source": [
    "def retl():\n",
    "    return [1,2]\n"
   ]
  },
  {
   "cell_type": "code",
   "execution_count": 37,
   "id": "4e428d1c",
   "metadata": {},
   "outputs": [
    {
     "data": {
      "text/plain": [
       "1"
      ]
     },
     "execution_count": 37,
     "metadata": {},
     "output_type": "execute_result"
    }
   ],
   "source": [
    "retl()[0]"
   ]
  },
  {
   "cell_type": "code",
   "execution_count": 50,
   "id": "c96830d9",
   "metadata": {},
   "outputs": [],
   "source": [
    "a = False\n",
    "b = True "
   ]
  },
  {
   "cell_type": "code",
   "execution_count": 51,
   "id": "61ae3419",
   "metadata": {},
   "outputs": [],
   "source": [
    "if a:\n",
    "    print(1)\n",
    "elif not b:\n",
    "    print(2)"
   ]
  },
  {
   "cell_type": "code",
   "execution_count": 58,
   "id": "4c302c5c",
   "metadata": {},
   "outputs": [],
   "source": [
    "class Target:\n",
    "    def __init__(self, name,skills, payoff):\n",
    "            self.name = name\n",
    "            self.skills = skills\n",
    "            self.payoff = payoff\n",
    "    def set_name(self,name):\n",
    "        self.name=name"
   ]
  },
  {
   "cell_type": "code",
   "execution_count": 64,
   "id": "c904bc71",
   "metadata": {},
   "outputs": [],
   "source": [
    "a=Target('a','b',10)"
   ]
  },
  {
   "cell_type": "code",
   "execution_count": 65,
   "id": "23594721",
   "metadata": {},
   "outputs": [],
   "source": [
    "import copy\n",
    "b=copy.deepcopy(a)"
   ]
  },
  {
   "cell_type": "code",
   "execution_count": 84,
   "id": "649e8330",
   "metadata": {},
   "outputs": [],
   "source": [
    "class Test:\n",
    "    def __init__(self, value):\n",
    "        self.value = value\n",
    "\n",
    "import random\n",
    "\n",
    "value = 5\n",
    "\n",
    "test_list = [Test(random.randint(0,100)) for x in range(1000)]"
   ]
  },
  {
   "cell_type": "code",
   "execution_count": null,
   "id": "e4d178b6",
   "metadata": {},
   "outputs": [],
   "source": []
  },
  {
   "cell_type": "code",
   "execution_count": 85,
   "id": "c1eaf5d4",
   "metadata": {},
   "outputs": [],
   "source": [
    "b=next((x for x in test_list if x.value == 100), None)"
   ]
  },
  {
   "cell_type": "code",
   "execution_count": 86,
   "id": "165f948c",
   "metadata": {},
   "outputs": [],
   "source": [
    "b.value=10000"
   ]
  },
  {
   "cell_type": "code",
   "execution_count": 87,
   "id": "f90849eb",
   "metadata": {},
   "outputs": [],
   "source": [
    "c=next((x for x in test_list if x.value == 10000), None)"
   ]
  },
  {
   "cell_type": "code",
   "execution_count": 88,
   "id": "24187d81",
   "metadata": {},
   "outputs": [
    {
     "data": {
      "text/plain": [
       "10000"
      ]
     },
     "execution_count": 88,
     "metadata": {},
     "output_type": "execute_result"
    }
   ],
   "source": [
    "c.value"
   ]
  },
  {
   "cell_type": "code",
   "execution_count": 89,
   "id": "aca2bcf5",
   "metadata": {},
   "outputs": [
    {
     "data": {
      "text/plain": [
       "True"
      ]
     },
     "execution_count": 89,
     "metadata": {},
     "output_type": "execute_result"
    }
   ],
   "source": [
    "b is c"
   ]
  },
  {
   "cell_type": "code",
   "execution_count": 90,
   "id": "c2ca9738",
   "metadata": {},
   "outputs": [],
   "source": [
    "b=[i]"
   ]
  },
  {
   "cell_type": "code",
   "execution_count": 91,
   "id": "2d47f5ce",
   "metadata": {},
   "outputs": [],
   "source": [
    "b.append(9.5)"
   ]
  },
  {
   "cell_type": "code",
   "execution_count": 92,
   "id": "22225b3e",
   "metadata": {},
   "outputs": [
    {
     "data": {
      "text/plain": [
       "[int, 9.5]"
      ]
     },
     "execution_count": 92,
     "metadata": {},
     "output_type": "execute_result"
    }
   ],
   "source": [
    "b"
   ]
  },
  {
   "cell_type": "code",
   "execution_count": 95,
   "id": "097635f9",
   "metadata": {},
   "outputs": [],
   "source": [
    "a=set([1,2]) \n",
    "b=set([2,1])\n",
    "c=set([3,4])\n",
    "d=set([4,5])"
   ]
  },
  {
   "cell_type": "code",
   "execution_count": 108,
   "id": "4ca92fa3",
   "metadata": {},
   "outputs": [],
   "source": [
    "f=[c,b]\n",
    "x=[a,c]"
   ]
  },
  {
   "cell_type": "code",
   "execution_count": 109,
   "id": "54ba267b",
   "metadata": {},
   "outputs": [],
   "source": [
    "w=[]\n",
    "for r in f:\n",
    "    w.append(r in x)"
   ]
  },
  {
   "cell_type": "code",
   "execution_count": 110,
   "id": "9e6e74e6",
   "metadata": {},
   "outputs": [
    {
     "data": {
      "text/plain": [
       "False"
      ]
     },
     "execution_count": 110,
     "metadata": {},
     "output_type": "execute_result"
    }
   ],
   "source": [
    "all(w)"
   ]
  },
  {
   "cell_type": "code",
   "execution_count": 111,
   "id": "eca82f7d",
   "metadata": {},
   "outputs": [
    {
     "data": {
      "text/plain": [
       "[True, True, False]"
      ]
     },
     "execution_count": 111,
     "metadata": {},
     "output_type": "execute_result"
    }
   ],
   "source": [
    "w"
   ]
  },
  {
   "cell_type": "code",
   "execution_count": null,
   "id": "4380a0f1",
   "metadata": {},
   "outputs": [],
   "source": []
  }
 ],
 "metadata": {
  "kernelspec": {
   "display_name": "Python 3 (ipykernel)",
   "language": "python",
   "name": "python3"
  },
  "language_info": {
   "codemirror_mode": {
    "name": "ipython",
    "version": 3
   },
   "file_extension": ".py",
   "mimetype": "text/x-python",
   "name": "python",
   "nbconvert_exporter": "python",
   "pygments_lexer": "ipython3",
   "version": "3.9.13"
  }
 },
 "nbformat": 4,
 "nbformat_minor": 5
}
