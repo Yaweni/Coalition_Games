{
 "cells": [
  {
   "cell_type": "code",
   "execution_count": null,
   "id": "33902f99",
   "metadata": {},
   "outputs": [],
   "source": [
    "\n",
    "# Define the list of players, the list of targets, and the dictionary of skills\n",
    "players = [\"Alice\", \"Bob\", \"Charlie\"]\n",
    "targets = [\"T1\", \"T2\", \"T3\", \"T4\"]\n",
    "skills = {\"S1\": 3, \"S2\": 2, \"S3\": 1, \"S4\": 2}\n",
    "\n",
    "# Define the skill requirements and the values of the targets\n",
    "skill_req = {\"T1\": {\"S1\": 1, \"S2\": 1}, \"T2\": {\"S3\": 2}, \"T3\": {\"S1\": 2, \"S4\": 1}, \"T4\": {\"S2\": 2, \"S4\": 1}}\n",
    "values = {\"T1\": 10, \"T2\": 8, \"T3\": 12, \"T4\": 9}\n",
    "\n",
    "# Calculate the total number of skills and the number of targets\n",
    "total_skills = sum(skills.values())\n",
    "num_targets = len(targets)\n",
    "\n",
    "# Initialize the dp array with zeros\n",
    "dp = [[0 for _ in range(total_skills + 1)] for _ in range(num_targets + 1)]\n",
    "\n",
    "# Fill the dp array using the recurrence relation\n",
    "for i in range(1, num_targets + 1):\n",
    "for j in range(1, total_skills + 1):\n",
    "# Get the skill requirement and the value of the current target\n",
    "w = sum(skill_req[targets[i-1]].values())\n",
    "v = values[targets[i-1]]\n",
    "# Check if the target can be included or not\n",
    "if j < w:\n",
    "# The target cannot be included, so the value is the same as the previous row\n",
    "dp[i][j] = dp[i-1][j]\n",
    "else:\n",
    "# The target can be included, so the value is the maximum of either excluding or including the target\n",
    "dp[i][j] = max(dp[i-1][j], v + dp[i-1][j-w])\n",
    "\n",
    "# The final answer is the value of the bottom-right corner of the dp array\n",
    "print(\"The maximum value that can be obtained by the players is\", dp[num_targets][total_skills])\n",
    "\n",
    "# To find the subset of targets that are included, we backtrack from the bottom-right corner of the dp array\n",
    "subset = []\n",
    "i = num_targets\n",
    "j = total_skills\n",
    "while i > 0 and j > 0:\n",
    "# Get the skill requirement and the value of the current target\n",
    "w = sum(skill_req[targets[i-1]].values())\n",
    "v = values[targets[i-1]]\n",
    "# Check if the target is included or not\n",
    "if dp[i][j] == dp[i-1][j]:\n",
    "# The target is not included, so we move to the previous row\n",
    "i -= 1\n",
    "else:\n",
    "# The target is included, so we add it to the subset and reduce the skill capacity by the skill requirement\n",
    "subset.append(targets[i-1])\n",
    "i -= 1\n",
    "j -= w\n",
    "\n",
    "# Reverse the subset to get the correct order\n",
    "subset.reverse()\n",
    "print(\"The subset of targets that are included are\", subset)"
   ]
  },
  {
   "cell_type": "code",
   "execution_count": 1,
   "id": "0b240789",
   "metadata": {},
   "outputs": [],
   "source": [
    "import networkx as nx"
   ]
  },
  {
   "cell_type": "code",
   "execution_count": 2,
   "id": "25d1db67",
   "metadata": {},
   "outputs": [],
   "source": [
    "# Create empty graph\n",
    "G = nx.Graph()"
   ]
  },
  {
   "cell_type": "code",
   "execution_count": 9,
   "id": "b42a694b",
   "metadata": {},
   "outputs": [],
   "source": [
    "G.add_edges_from([[1, 2],[2,3]])"
   ]
  },
  {
   "cell_type": "code",
   "execution_count": 10,
   "id": "5a7b3055",
   "metadata": {},
   "outputs": [
    {
     "data": {
      "text/plain": [
       "EdgeView([(1, 2), (2, 3)])"
      ]
     },
     "execution_count": 10,
     "metadata": {},
     "output_type": "execute_result"
    }
   ],
   "source": [
    "G.edges"
   ]
  },
  {
   "cell_type": "code",
   "execution_count": 11,
   "id": "411d8803",
   "metadata": {},
   "outputs": [
    {
     "data": {
      "text/plain": [
       "2"
      ]
     },
     "execution_count": 11,
     "metadata": {},
     "output_type": "execute_result"
    }
   ],
   "source": [
    "nx.diameter(G)"
   ]
  },
  {
   "cell_type": "code",
   "execution_count": 20,
   "id": "08c9837c",
   "metadata": {},
   "outputs": [],
   "source": [
    "coalitions=[set([i]) for i in range(10)]"
   ]
  },
  {
   "cell_type": "code",
   "execution_count": 21,
   "id": "f29f052b",
   "metadata": {},
   "outputs": [
    {
     "data": {
      "text/plain": [
       "[{0}, {1}, {2}, {3}, {4}, {5}, {6}, {7}, {8}, {9}]"
      ]
     },
     "execution_count": 21,
     "metadata": {},
     "output_type": "execute_result"
    }
   ],
   "source": [
    "coalitions"
   ]
  },
  {
   "cell_type": "code",
   "execution_count": 22,
   "id": "23d692e0",
   "metadata": {},
   "outputs": [],
   "source": [
    "coalitions[0].remove(0)\n",
    "coalitions[1].add(0)"
   ]
  },
  {
   "cell_type": "code",
   "execution_count": 23,
   "id": "1639a3e5",
   "metadata": {},
   "outputs": [
    {
     "data": {
      "text/plain": [
       "[set(), {0, 1}, {2}, {3}, {4}, {5}, {6}, {7}, {8}, {9}]"
      ]
     },
     "execution_count": 23,
     "metadata": {},
     "output_type": "execute_result"
    }
   ],
   "source": [
    "coalitions"
   ]
  },
  {
   "cell_type": "code",
   "execution_count": 25,
   "id": "4a44285f",
   "metadata": {},
   "outputs": [],
   "source": [
    "stable_coa=[coa for coa in coalitions if len(coa)>0]"
   ]
  },
  {
   "cell_type": "code",
   "execution_count": 26,
   "id": "275d19b5",
   "metadata": {},
   "outputs": [
    {
     "data": {
      "text/plain": [
       "[{0, 1}, {2}, {3}, {4}, {5}, {6}, {7}, {8}, {9}]"
      ]
     },
     "execution_count": 26,
     "metadata": {},
     "output_type": "execute_result"
    }
   ],
   "source": [
    "stable_coa"
   ]
  },
  {
   "cell_type": "code",
   "execution_count": 27,
   "id": "1f8ab13c",
   "metadata": {},
   "outputs": [
    {
     "data": {
      "text/plain": [
       "False"
      ]
     },
     "execution_count": 27,
     "metadata": {},
     "output_type": "execute_result"
    }
   ],
   "source": [
    "stable_coa == coalitions"
   ]
  },
  {
   "cell_type": "code",
   "execution_count": 35,
   "id": "2531b230",
   "metadata": {},
   "outputs": [
    {
     "data": {
      "text/plain": [
       "False"
      ]
     },
     "execution_count": 35,
     "metadata": {},
     "output_type": "execute_result"
    }
   ],
   "source": [
    "any(set([1,2,3]).intersection([3,4,5])) and 1 not in [1,2,3]"
   ]
  },
  {
   "cell_type": "code",
   "execution_count": 36,
   "id": "408ee77c",
   "metadata": {},
   "outputs": [],
   "source": [
    "def retl():\n",
    "    return [1,2]\n"
   ]
  },
  {
   "cell_type": "code",
   "execution_count": 37,
   "id": "cbc03c8f",
   "metadata": {},
   "outputs": [
    {
     "data": {
      "text/plain": [
       "1"
      ]
     },
     "execution_count": 37,
     "metadata": {},
     "output_type": "execute_result"
    }
   ],
   "source": [
    "retl()[0]"
   ]
  },
  {
   "cell_type": "code",
   "execution_count": null,
   "id": "f1964d31",
   "metadata": {},
   "outputs": [],
   "source": [
    "-"
   ]
  }
 ],
 "metadata": {
  "kernelspec": {
   "display_name": "Python 3 (ipykernel)",
   "language": "python",
   "name": "python3"
  },
  "language_info": {
   "codemirror_mode": {
    "name": "ipython",
    "version": 3
   },
   "file_extension": ".py",
   "mimetype": "text/x-python",
   "name": "python",
   "nbconvert_exporter": "python",
   "pygments_lexer": "ipython3",
   "version": "3.9.13"
  }
 },
 "nbformat": 4,
 "nbformat_minor": 5
}
