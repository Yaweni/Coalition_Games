{
 "cells": [
  {
   "cell_type": "code",
   "execution_count": 1,
   "id": "1145225a",
   "metadata": {},
   "outputs": [],
   "source": [
    "class Player:\n",
    "    def __init__(self, id, skills, preferences, neighbors):\n",
    "        self.id = id\n",
    "        self.skills = skills\n",
    "        self.preferences = preferences\n",
    "        self.neighbors = neighbors\n",
    "        self.coalition = None\n",
    "\n",
    "    def join_coalition(self, coalition):\n",
    "        self.coalition = coalition\n",
    "\n",
    "    def leave_coalition(self):\n",
    "        self.coalition = None\n"
   ]
  },
  {
   "cell_type": "code",
   "execution_count": 2,
   "id": "3696ec7c",
   "metadata": {},
   "outputs": [],
   "source": [
    "player1 = Player(1, {'skill1':2, 'skill2':1}, {'target1': 0.7, 'target2': 0.3}, [2])\n",
    "player2 = Player(2, {'skill2':2, 'skill3':2}, {'target1': 0.4, 'target2': 0.6}, [1, 3])\n",
    "player3 = Player(3, {'skill1':1, 'skill3':1}, {'target1': 0.5, 'target2': 0.5}, [2])"
   ]
  },
  {
   "cell_type": "code",
   "execution_count": 12,
   "id": "201cbb8e",
   "metadata": {},
   "outputs": [
    {
     "name": "stdout",
     "output_type": "stream",
     "text": [
      "skill1 2\n",
      "skill2 1\n"
     ]
    }
   ],
   "source": [
    "for target,value in player1.skills.items():\n",
    "    print(target,value)"
   ]
  },
  {
   "cell_type": "code",
   "execution_count": 41,
   "id": "45bec47e",
   "metadata": {},
   "outputs": [],
   "source": [
    "def find_acquired_targets(players, targets):\n",
    "    acquired_targets=[]\n",
    "    # Combine the resources of all players in the coalition\n",
    "    coalition_resources = {}\n",
    "    for player in players:\n",
    "        for skill, count in player.items():\n",
    "            coalition_resources[skill] = coalition_resources.get(skill, 0) + count\n",
    "    for target in targets:\n",
    "        temp_resources=coalition_resources.copy()\n",
    "        for k in target[1]:\n",
    "            temp_resources[k]-=target[1][k]     \n",
    "        acquire=all([v>=0 for v in temp_resources.values()])\n",
    "        if acquire == True:\n",
    "            acquired_targets.append(target)\n",
    "            coalition_resources=temp_resources\n",
    "    return acquired_targets"
   ]
  },
  {
   "cell_type": "code",
   "execution_count": 42,
   "id": "0285128c",
   "metadata": {},
   "outputs": [
    {
     "name": "stdout",
     "output_type": "stream",
     "text": [
      "Acquired Targets:\n",
      "['Target 2', {'skill2': 2, 'skill3': 2}, 9]\n",
      "['Target 3', {'skill1': 1, 'skill3': 1}, 6]\n"
     ]
    }
   ],
   "source": [
    "# Example players and targets\n",
    "players = [\n",
    "    {\"skill1\": 3, \"skill2\": 2, \"skill3\": 1},\n",
    "    {\"skill1\": 2, \"skill2\": 2, \"skill3\": 2},\n",
    "    {\"skill1\": 2, \"skill2\": 3, \"skill3\": 2},\n",
    "]\n",
    "\n",
    "targets = [\n",
    "    ['Target 1',{\"skill1\": 8, \"skill2\": 1},10],\n",
    "    ['Target 2',{\"skill2\": 2, \"skill3\": 2},9],\n",
    "    ['Target 3',{\"skill1\": 1, \"skill3\": 1},6],\n",
    "]\n",
    "\n",
    "\n",
    "acquired_targets = find_acquired_targets(players, targets)\n",
    "print(\"Acquired Targets:\")\n",
    "for target in acquired_targets:\n",
    "    print(target)"
   ]
  },
  {
   "cell_type": "code",
   "execution_count": null,
   "id": "cc60ef1c",
   "metadata": {},
   "outputs": [],
   "source": []
  }
 ],
 "metadata": {
  "kernelspec": {
   "display_name": "Python 3 (ipykernel)",
   "language": "python",
   "name": "python3"
  },
  "language_info": {
   "codemirror_mode": {
    "name": "ipython",
    "version": 3
   },
   "file_extension": ".py",
   "mimetype": "text/x-python",
   "name": "python",
   "nbconvert_exporter": "python",
   "pygments_lexer": "ipython3",
   "version": "3.9.13"
  }
 },
 "nbformat": 4,
 "nbformat_minor": 5
}
